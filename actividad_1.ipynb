{
  "nbformat": 4,
  "nbformat_minor": 0,
  "metadata": {
    "colab": {
      "name": "actividad-1.ipynb",
      "provenance": []
    },
    "kernelspec": {
      "name": "python3",
      "display_name": "Python 3"
    },
    "language_info": {
      "name": "python"
    }
  },
  "cells": [
    {
      "cell_type": "markdown",
      "source": [
        "# Crear arreglo de 4 dimensiones ordenados por la edad o nombre"
      ],
      "metadata": {
        "id": "g2fnnazYEkxB"
      }
    },
    {
      "cell_type": "code",
      "execution_count": null,
      "metadata": {
        "colab": {
          "base_uri": "https://localhost:8080/"
        },
        "id": "u8k3bY6YEe-9",
        "outputId": "289e177e-3b8e-45df-83d9-4f04d50e9de4"
      },
      "outputs": [
        {
          "output_type": "execute_result",
          "data": {
            "text/plain": [
              "4"
            ]
          },
          "metadata": {},
          "execution_count": 16
        }
      ],
      "source": [
        "import numpy as np\n",
        "\n",
        "varType = [('nombre', 'S10'), ('edad', int)]\n",
        "data = [('Cristhian', 24), ('Diego', 24), ('Kerly', 21), ('Maria', 22), ('Cristopher', 10),('Erika', 30), ('Robert', 25),('Luis', 28)]\n",
        "users = np.array([[[data, data]], [[data, data]]], dtype = varType)\n",
        "users.ndim"
      ]
    },
    {
      "cell_type": "markdown",
      "source": [
        "### Ordenar por edad"
      ],
      "metadata": {
        "id": "8NI-eSohHlUs"
      }
    },
    {
      "cell_type": "code",
      "source": [
        "np.sort(users, order = 'edad')"
      ],
      "metadata": {
        "colab": {
          "base_uri": "https://localhost:8080/"
        },
        "id": "x8X3sXmOHnjC",
        "outputId": "509ad738-cd00-4edd-f0e8-61f5ed80243d"
      },
      "execution_count": null,
      "outputs": [
        {
          "output_type": "execute_result",
          "data": {
            "text/plain": [
              "array([[[[(b'Cristopher', 10), (b'Kerly', 21), (b'Maria', 22),\n",
              "          (b'Cristhian', 24), (b'Diego', 24), (b'Robert', 25),\n",
              "          (b'Luis', 28), (b'Erika', 30)],\n",
              "         [(b'Cristopher', 10), (b'Kerly', 21), (b'Maria', 22),\n",
              "          (b'Cristhian', 24), (b'Diego', 24), (b'Robert', 25),\n",
              "          (b'Luis', 28), (b'Erika', 30)]]],\n",
              "\n",
              "\n",
              "       [[[(b'Cristopher', 10), (b'Kerly', 21), (b'Maria', 22),\n",
              "          (b'Cristhian', 24), (b'Diego', 24), (b'Robert', 25),\n",
              "          (b'Luis', 28), (b'Erika', 30)],\n",
              "         [(b'Cristopher', 10), (b'Kerly', 21), (b'Maria', 22),\n",
              "          (b'Cristhian', 24), (b'Diego', 24), (b'Robert', 25),\n",
              "          (b'Luis', 28), (b'Erika', 30)]]]],\n",
              "      dtype=[('nombre', 'S10'), ('edad', '<i8')])"
            ]
          },
          "metadata": {},
          "execution_count": 17
        }
      ]
    },
    {
      "cell_type": "markdown",
      "source": [
        "### Ordernar por nombre"
      ],
      "metadata": {
        "id": "CxG-oZUMH2rv"
      }
    },
    {
      "cell_type": "code",
      "source": [
        "np.sort(users, order = 'nombre')"
      ],
      "metadata": {
        "colab": {
          "base_uri": "https://localhost:8080/"
        },
        "id": "lMstGAe7H4Lr",
        "outputId": "1537bf5e-a71c-4044-b98d-9ad97bd20758"
      },
      "execution_count": null,
      "outputs": [
        {
          "output_type": "execute_result",
          "data": {
            "text/plain": [
              "array([[[[(b'Cristhian', 24), (b'Cristopher', 10), (b'Diego', 24),\n",
              "          (b'Erika', 30), (b'Kerly', 21), (b'Luis', 28),\n",
              "          (b'Maria', 22), (b'Robert', 25)],\n",
              "         [(b'Cristhian', 24), (b'Cristopher', 10), (b'Diego', 24),\n",
              "          (b'Erika', 30), (b'Kerly', 21), (b'Luis', 28),\n",
              "          (b'Maria', 22), (b'Robert', 25)]]],\n",
              "\n",
              "\n",
              "       [[[(b'Cristhian', 24), (b'Cristopher', 10), (b'Diego', 24),\n",
              "          (b'Erika', 30), (b'Kerly', 21), (b'Luis', 28),\n",
              "          (b'Maria', 22), (b'Robert', 25)],\n",
              "         [(b'Cristhian', 24), (b'Cristopher', 10), (b'Diego', 24),\n",
              "          (b'Erika', 30), (b'Kerly', 21), (b'Luis', 28),\n",
              "          (b'Maria', 22), (b'Robert', 25)]]]],\n",
              "      dtype=[('nombre', 'S10'), ('edad', '<i8')])"
            ]
          },
          "metadata": {},
          "execution_count": 18
        }
      ]
    }
  ]
}